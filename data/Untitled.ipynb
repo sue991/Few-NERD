{
 "cells": [
  {
   "cell_type": "code",
   "execution_count": 1,
   "id": "8c9f5b6c",
   "metadata": {},
   "outputs": [],
   "source": [
    "import os\n",
    "import numpy as np\n",
    "import torch\n",
    "import pandas as pd"
   ]
  },
  {
   "cell_type": "code",
   "execution_count": 2,
   "id": "0c2700d3",
   "metadata": {},
   "outputs": [],
   "source": [
    "class InputExample(object):\n",
    "    \"\"\"A single training/test example for token classification.\"\"\"\n",
    "\n",
    "    def __init__(self, guid, words, labels):\n",
    "        \"\"\"Constructs a InputExample.\n",
    "\n",
    "        Args:\n",
    "            guid: Unique id for the example.\n",
    "            words: list. The words of the sequence.\n",
    "            labels: (Optional) list. The labels for each word of the sequence. This should be\n",
    "            specified for train and dev examples, but not for test examples.\n",
    "        \"\"\"\n",
    "        self.guid = guid\n",
    "        self.words = words\n",
    "        self.labels = labels"
   ]
  },
  {
   "cell_type": "code",
   "execution_count": 3,
   "id": "9e39acdf",
   "metadata": {},
   "outputs": [],
   "source": [
    "def read_examples_from_file(data_dir, mode):\n",
    "    file_path = os.path.join(data_dir, \"{}.txt\".format(mode))\n",
    "    guid_index = 1\n",
    "    examples = []\n",
    "\n",
    "    with open(file_path, encoding=\"utf-8\") as f:\n",
    "        words = []\n",
    "        labels = []\n",
    "        for line in f:\n",
    "            if line.startswith(\"-DOCSTART-\") or not line.strip():  # \"\" # 문서 시작 or 문장\n",
    "                if words:\n",
    "                    examples.append(InputExample(guid=\"{}-{}\".format(mode, guid_index),\n",
    "                                                 words=words,\n",
    "                                                 labels=labels))\n",
    "                    guid_index += 1\n",
    "                    words = []\n",
    "                    labels = []\n",
    "            else:\n",
    "                splits = line.split(\"\\t\")\n",
    "                if splits[0].strip():\n",
    "                    words.append(splits[0])\n",
    "                    if len(splits) > 1:\n",
    "                        labels.append(splits[-1].replace(\"\\n\", \"\"))\n",
    "                    else:\n",
    "                        # Examples could have no label for mode = \"test\"\n",
    "                        labels.append(\"O\")\n",
    "        if words:\n",
    "            examples.append(InputExample(guid=\"%s-%d\".format(mode, guid_index),\n",
    "                                         words=words,\n",
    "                                         labels=labels))\n",
    "    return examples"
   ]
  },
  {
   "cell_type": "code",
   "execution_count": 4,
   "id": "61523d20",
   "metadata": {},
   "outputs": [],
   "source": [
    "def get_labels(path):\n",
    "    if path:\n",
    "        with open(path, \"r\") as f:\n",
    "            labels = f.read().splitlines()\n",
    "        if \"O\" not in labels:\n",
    "            labels = [\"O\"] + labels\n",
    "        return labels\n",
    "    else:\n",
    "        return [\"O\", \"B-MISC\", \"I-MISC\", \"B-PER\", \"I-PER\", \"B-ORG\", \"I-ORG\", \"B-LOC\", \"I-LOC\"]"
   ]
  },
  {
   "cell_type": "code",
   "execution_count": 5,
   "id": "8faa225d",
   "metadata": {},
   "outputs": [],
   "source": [
    "labels = get_labels(\"labels.txt\")\n",
    "label_map = {label:i for i,label in enumerate(labels)}"
   ]
  },
  {
   "cell_type": "code",
   "execution_count": 6,
   "id": "7aed05cf",
   "metadata": {},
   "outputs": [],
   "source": [
    "examples = read_examples_from_file(\"supervised\", \"train\")"
   ]
  },
  {
   "cell_type": "code",
   "execution_count": 7,
   "id": "358e27fb",
   "metadata": {},
   "outputs": [
    {
     "data": {
      "text/plain": [
       "131767"
      ]
     },
     "execution_count": 7,
     "metadata": {},
     "output_type": "execute_result"
    }
   ],
   "source": [
    "len(examples)"
   ]
  },
  {
   "cell_type": "code",
   "execution_count": 8,
   "id": "0a896a0b",
   "metadata": {},
   "outputs": [],
   "source": [
    "def split_samples(examples, split_rate): # split_rate:0.2 -> coarse:fine = 8:2\n",
    "    total = np.arange(len(examples))\n",
    "    fine_id = np.random.choice(len(examples), int(len(examples)*split_rate), replace=False)\n",
    "    coarse_id = np.setdiff1d(total, fine_id)\n",
    "    \n",
    "    print(f\"{len(fine_id)} fine_id : {fine_id}\")\n",
    "    print(f\"{len(coarse_id)} coarse_id : {coarse_id}\")\n",
    "    \n",
    "    examples = np.array(examples)\n",
    "    fine_examples = examples[fine_id]\n",
    "    coarse_examples = examples[coarse_id]\n",
    "\n",
    "    return fine_examples.tolist(), coarse_examples.tolist()"
   ]
  },
  {
   "cell_type": "code",
   "execution_count": 10,
   "id": "da78bce7",
   "metadata": {},
   "outputs": [
    {
     "name": "stdout",
     "output_type": "stream",
     "text": [
      "1317 fine_id : [ 62262  59474 131106 ... 129993 113249  95114]\n",
      "130450 coarse_id : [     0      1      2 ... 131764 131765 131766]\n"
     ]
    }
   ],
   "source": [
    "fine_examples, coarse_examples = split_samples(examples, 0.01)"
   ]
  },
  {
   "cell_type": "code",
   "execution_count": 11,
   "id": "55f0e75d",
   "metadata": {},
   "outputs": [],
   "source": [
    "def count_features(examples, label_list):\n",
    "    features = {label:0 for label in label_list}\n",
    "    \n",
    "    for (ex_index, example) in enumerate(examples):\n",
    "        for label in example.labels:\n",
    "            features[label] += 1\n",
    "            \n",
    "    return features"
   ]
  },
  {
   "cell_type": "code",
   "execution_count": 12,
   "id": "6d055663",
   "metadata": {},
   "outputs": [],
   "source": [
    "coarse_features = count_features(coarse_examples, labels)\n",
    "fine_features = count_features(fine_examples, labels)"
   ]
  },
  {
   "cell_type": "code",
   "execution_count": 13,
   "id": "f6451f63",
   "metadata": {},
   "outputs": [
    {
     "data": {
      "text/plain": [
       "{'art-broadcastprogram': 138,\n",
       " 'art-film': 86,\n",
       " 'art-music': 95,\n",
       " 'art-other': 63,\n",
       " 'art-painting': 4,\n",
       " 'art-writtenart': 87,\n",
       " 'building-airport': 13,\n",
       " 'building-hospital': 33,\n",
       " 'building-hotel': 22,\n",
       " 'building-library': 40,\n",
       " 'building-other': 258,\n",
       " 'building-restaurant': 54,\n",
       " 'building-sportsfacility': 70,\n",
       " 'building-theater': 92,\n",
       " 'event-attack/battle/war/militaryconflict': 120,\n",
       " 'event-disaster': 28,\n",
       " 'event-election': 21,\n",
       " 'event-other': 75,\n",
       " 'event-protest': 16,\n",
       " 'event-sportsevent': 142,\n",
       " 'location-bodiesofwater': 76,\n",
       " 'location-GPE': 856,\n",
       " 'location-island': 47,\n",
       " 'location-mountain': 24,\n",
       " 'location-other': 163,\n",
       " 'location-park': 71,\n",
       " 'location-road/railway/highway/transit': 103,\n",
       " 'O': 26410,\n",
       " 'organization-company': 351,\n",
       " 'organization-education': 297,\n",
       " 'organization-government/governmentagency': 147,\n",
       " 'organization-media/newspaper': 92,\n",
       " 'organization-other': 497,\n",
       " 'organization-politicalparty': 57,\n",
       " 'organization-religion': 38,\n",
       " 'organization-showorganization': 52,\n",
       " 'organization-sportsleague': 83,\n",
       " 'organization-sportsteam': 207,\n",
       " 'other-astronomything': 103,\n",
       " 'other-award': 94,\n",
       " 'other-biologything': 114,\n",
       " 'other-chemicalthing': 74,\n",
       " 'other-currency': 42,\n",
       " 'other-disease': 52,\n",
       " 'other-educationaldegree': 32,\n",
       " 'other-god': 39,\n",
       " 'other-language': 30,\n",
       " 'other-law': 36,\n",
       " 'other-livingthing': 36,\n",
       " 'other-medical': 17,\n",
       " 'person-actor': 115,\n",
       " 'person-artist/author': 191,\n",
       " 'person-athlete': 156,\n",
       " 'person-director': 39,\n",
       " 'person-other': 531,\n",
       " 'person-politician': 150,\n",
       " 'person-scholar': 86,\n",
       " 'person-soldier': 73,\n",
       " 'product-airplane': 33,\n",
       " 'product-car': 76,\n",
       " 'product-food': 39,\n",
       " 'product-game': 35,\n",
       " 'product-other': 133,\n",
       " 'product-ship': 28,\n",
       " 'product-software': 44,\n",
       " 'product-train': 35,\n",
       " 'product-weapon': 35}"
      ]
     },
     "execution_count": 13,
     "metadata": {},
     "output_type": "execute_result"
    }
   ],
   "source": [
    "fine_features"
   ]
  },
  {
   "cell_type": "code",
   "execution_count": 14,
   "id": "62b0f6e4",
   "metadata": {},
   "outputs": [
    {
     "data": {
      "text/plain": [
       "{'art-broadcastprogram': 5963,\n",
       " 'art-film': 8345,\n",
       " 'art-music': 10812,\n",
       " 'art-other': 6133,\n",
       " 'art-painting': 841,\n",
       " 'art-writtenart': 11222,\n",
       " 'building-airport': 3629,\n",
       " 'building-hospital': 4083,\n",
       " 'building-hotel': 2647,\n",
       " 'building-library': 3771,\n",
       " 'building-other': 24576,\n",
       " 'building-restaurant': 1770,\n",
       " 'building-sportsfacility': 3636,\n",
       " 'building-theater': 4512,\n",
       " 'event-attack/battle/war/militaryconflict': 10599,\n",
       " 'event-disaster': 1804,\n",
       " 'event-election': 1985,\n",
       " 'event-other': 9876,\n",
       " 'event-protest': 1325,\n",
       " 'event-sportsevent': 15548,\n",
       " 'location-bodiesofwater': 8224,\n",
       " 'location-GPE': 90340,\n",
       " 'location-island': 4051,\n",
       " 'location-mountain': 4476,\n",
       " 'location-other': 16271,\n",
       " 'location-park': 4242,\n",
       " 'location-road/railway/highway/transit': 14501,\n",
       " 'O': 2520610,\n",
       " 'organization-company': 28661,\n",
       " 'organization-education': 23546,\n",
       " 'organization-government/governmentagency': 14837,\n",
       " 'organization-media/newspaper': 8150,\n",
       " 'organization-other': 42895,\n",
       " 'organization-politicalparty': 7826,\n",
       " 'organization-religion': 4771,\n",
       " 'organization-showorganization': 5945,\n",
       " 'organization-sportsleague': 7451,\n",
       " 'organization-sportsteam': 16983,\n",
       " 'other-astronomything': 4521,\n",
       " 'other-award': 11907,\n",
       " 'other-biologything': 8791,\n",
       " 'other-chemicalthing': 5476,\n",
       " 'other-currency': 3719,\n",
       " 'other-disease': 5086,\n",
       " 'other-educationaldegree': 3879,\n",
       " 'other-god': 2108,\n",
       " 'other-language': 3521,\n",
       " 'other-law': 6245,\n",
       " 'other-livingthing': 5403,\n",
       " 'other-medical': 2200,\n",
       " 'person-actor': 10605,\n",
       " 'person-artist/author': 22096,\n",
       " 'person-athlete': 17371,\n",
       " 'person-director': 4136,\n",
       " 'person-other': 50375,\n",
       " 'person-politician': 17133,\n",
       " 'person-scholar': 4618,\n",
       " 'person-soldier': 4292,\n",
       " 'product-airplane': 5750,\n",
       " 'product-car': 5200,\n",
       " 'product-food': 2746,\n",
       " 'product-game': 3741,\n",
       " 'product-other': 11115,\n",
       " 'product-ship': 2683,\n",
       " 'product-software': 5235,\n",
       " 'product-train': 3021,\n",
       " 'product-weapon': 4237}"
      ]
     },
     "execution_count": 14,
     "metadata": {},
     "output_type": "execute_result"
    }
   ],
   "source": [
    "coarse_features"
   ]
  },
  {
   "cell_type": "code",
   "execution_count": 15,
   "id": "d3294b7c",
   "metadata": {},
   "outputs": [],
   "source": [
    "mapper = {} # fine : coarse\n",
    "for label in labels:\n",
    "    if label == \"O\":\n",
    "        mapper[label] = label\n",
    "    else:\n",
    "        c, f = label.split(\"-\")\n",
    "        mapper[label] = c"
   ]
  },
  {
   "cell_type": "code",
   "execution_count": 16,
   "id": "2ee04f14",
   "metadata": {},
   "outputs": [],
   "source": [
    "# mapper"
   ]
  },
  {
   "cell_type": "code",
   "execution_count": 17,
   "id": "e742d8bc",
   "metadata": {},
   "outputs": [],
   "source": [
    "def make_coarse(examples, mapper):\n",
    "    new_examples = []\n",
    "    for (ex_index, example) in enumerate(examples):\n",
    "\n",
    "        new_labels = []\n",
    "        for word, label in zip(example.words, example.labels):\n",
    "            new_label = mapper[label]\n",
    "            new_labels.append(new_label)\n",
    "              \n",
    "        new_examples.append(InputExample(guid= example.guid,\n",
    "                                             words=example.words,\n",
    "                                             labels=new_labels))\n",
    "        \n",
    "    print(len(new_examples))\n",
    "    return new_examples"
   ]
  },
  {
   "cell_type": "code",
   "execution_count": 18,
   "id": "91c7da1c",
   "metadata": {},
   "outputs": [
    {
     "name": "stdout",
     "output_type": "stream",
     "text": [
      "130450\n"
     ]
    }
   ],
   "source": [
    "new_examples = make_coarse(coarse_examples, mapper)"
   ]
  },
  {
   "cell_type": "code",
   "execution_count": 19,
   "id": "10b21e6d",
   "metadata": {},
   "outputs": [],
   "source": [
    "def make_file(examples, title):\n",
    "    with open(f\"./supervised/{title}.txt\", \"w\") as file:\n",
    "        for (ex_index, example) in enumerate(examples):\n",
    "            for word, label in zip(example.words, example.labels):\n",
    "                file.write(f\"{word}\\t{label}\\n\")\n",
    "            file.write(\"\\n\")"
   ]
  },
  {
   "cell_type": "code",
   "execution_count": 20,
   "id": "8d254eee",
   "metadata": {},
   "outputs": [],
   "source": [
    "make_file(new_examples,\"coarse\")"
   ]
  },
  {
   "cell_type": "code",
   "execution_count": 21,
   "id": "46ea26ad",
   "metadata": {},
   "outputs": [],
   "source": [
    "make_file(fine_examples,\"fine\")"
   ]
  },
  {
   "cell_type": "markdown",
   "id": "4fbd9a62",
   "metadata": {},
   "source": [
    "# Save"
   ]
  },
  {
   "cell_type": "code",
   "execution_count": 22,
   "id": "333d38e3",
   "metadata": {},
   "outputs": [],
   "source": [
    "with open(\"./supervised/num_of_features.txt\", \"w\") as file:\n",
    "    file.write(\"coarse_features \\n\")\n",
    "    file.write(f\"{coarse_features} \\n\")\n",
    "    file.write(\"fine_features \\n\")\n",
    "    file.write(f\"{fine_features}\")"
   ]
  },
  {
   "cell_type": "code",
   "execution_count": null,
   "id": "b15f041b",
   "metadata": {},
   "outputs": [],
   "source": []
  }
 ],
 "metadata": {
  "kernelspec": {
   "display_name": "Python 3 (ipykernel)",
   "language": "python",
   "name": "python3"
  },
  "language_info": {
   "codemirror_mode": {
    "name": "ipython",
    "version": 3
   },
   "file_extension": ".py",
   "mimetype": "text/x-python",
   "name": "python",
   "nbconvert_exporter": "python",
   "pygments_lexer": "ipython3",
   "version": "3.9.10"
  }
 },
 "nbformat": 4,
 "nbformat_minor": 5
}
